{
 "cells": [
  {
   "cell_type": "code",
   "execution_count": 3,
   "id": "cd3fbc3e",
   "metadata": {},
   "outputs": [],
   "source": [
    "import pandas as pd\n",
    "import numpy as np\n",
    "import matplotlib.pyplot as plt"
   ]
  },
  {
   "cell_type": "code",
   "execution_count": 4,
   "id": "3898e967",
   "metadata": {},
   "outputs": [
    {
     "data": {
      "text/html": [
       "<div>\n",
       "<style scoped>\n",
       "    .dataframe tbody tr th:only-of-type {\n",
       "        vertical-align: middle;\n",
       "    }\n",
       "\n",
       "    .dataframe tbody tr th {\n",
       "        vertical-align: top;\n",
       "    }\n",
       "\n",
       "    .dataframe thead th {\n",
       "        text-align: right;\n",
       "    }\n",
       "</style>\n",
       "<table border=\"1\" class=\"dataframe\">\n",
       "  <thead>\n",
       "    <tr style=\"text-align: right;\">\n",
       "      <th></th>\n",
       "      <th>RM</th>\n",
       "      <th>LSTAT</th>\n",
       "      <th>AGE</th>\n",
       "      <th>MEDV</th>\n",
       "    </tr>\n",
       "  </thead>\n",
       "  <tbody>\n",
       "    <tr>\n",
       "      <th>0</th>\n",
       "      <td>6.5</td>\n",
       "      <td>12.5</td>\n",
       "      <td>60</td>\n",
       "      <td>24</td>\n",
       "    </tr>\n",
       "    <tr>\n",
       "      <th>1</th>\n",
       "      <td>7.0</td>\n",
       "      <td>10.0</td>\n",
       "      <td>45</td>\n",
       "      <td>30</td>\n",
       "    </tr>\n",
       "    <tr>\n",
       "      <th>2</th>\n",
       "      <td>6.0</td>\n",
       "      <td>15.0</td>\n",
       "      <td>80</td>\n",
       "      <td>22</td>\n",
       "    </tr>\n",
       "    <tr>\n",
       "      <th>3</th>\n",
       "      <td>5.5</td>\n",
       "      <td>20.0</td>\n",
       "      <td>90</td>\n",
       "      <td>19</td>\n",
       "    </tr>\n",
       "    <tr>\n",
       "      <th>4</th>\n",
       "      <td>7.2</td>\n",
       "      <td>8.0</td>\n",
       "      <td>40</td>\n",
       "      <td>35</td>\n",
       "    </tr>\n",
       "  </tbody>\n",
       "</table>\n",
       "</div>"
      ],
      "text/plain": [
       "    RM  LSTAT  AGE  MEDV\n",
       "0  6.5   12.5   60    24\n",
       "1  7.0   10.0   45    30\n",
       "2  6.0   15.0   80    22\n",
       "3  5.5   20.0   90    19\n",
       "4  7.2    8.0   40    35"
      ]
     },
     "execution_count": 4,
     "metadata": {},
     "output_type": "execute_result"
    }
   ],
   "source": [
    "data = {\n",
    "    'RM': [6.5, 7.0, 6.0, 5.5, 7.2],\n",
    "    'LSTAT': [12.5, 10.0, 15.0, 20.0, 8.0],\n",
    "    'AGE': [60, 45, 80, 90, 40],\n",
    "    'MEDV': [24, 30, 22, 19, 35]\n",
    "}\n",
    "df = pd.DataFrame(data)\n",
    "df"
   ]
  },
  {
   "cell_type": "code",
   "execution_count": 5,
   "id": "414d58c3",
   "metadata": {},
   "outputs": [
    {
     "data": {
      "text/plain": [
       "(array([[ 6.5, 12.5, 60. ],\n",
       "        [ 7. , 10. , 45. ],\n",
       "        [ 6. , 15. , 80. ],\n",
       "        [ 5.5, 20. , 90. ],\n",
       "        [ 7.2,  8. , 40. ]]),\n",
       " array([24, 30, 22, 19, 35]))"
      ]
     },
     "execution_count": 5,
     "metadata": {},
     "output_type": "execute_result"
    }
   ],
   "source": [
    "X = df[['RM', 'LSTAT', 'AGE']].values\n",
    "y = df['MEDV'].values\n",
    "X, y"
   ]
  },
  {
   "cell_type": "code",
   "execution_count": 7,
   "id": "8791c3ae",
   "metadata": {},
   "outputs": [],
   "source": [
    "X_mean = X.mean(axis=0)\n",
    "X_std = X.std(axis=0)\n",
    "X = (X - X_mean) / X_std"
   ]
  },
  {
   "cell_type": "code",
   "execution_count": 8,
   "id": "062599bc",
   "metadata": {},
   "outputs": [
    {
     "data": {
      "text/plain": [
       "array([[ 0.09553946, -0.14367394, -0.15471319],\n",
       "       [ 0.89170166, -0.74231537, -0.92827912],\n",
       "       [-0.70062273,  0.45496749,  0.87670806],\n",
       "       [-1.49678492,  1.65225034,  1.39241868],\n",
       "       [ 1.21016654, -1.22122851, -1.18613443]])"
      ]
     },
     "execution_count": 8,
     "metadata": {},
     "output_type": "execute_result"
    }
   ],
   "source": [
    "X"
   ]
  },
  {
   "cell_type": "code",
   "execution_count": 9,
   "id": "44c56cfe",
   "metadata": {},
   "outputs": [],
   "source": [
    "X = np.c_[np.ones(X.shape[0]), X]"
   ]
  },
  {
   "cell_type": "code",
   "execution_count": 10,
   "id": "2e52603f",
   "metadata": {},
   "outputs": [
    {
     "data": {
      "text/plain": [
       "array([[ 1.        ,  0.09553946, -0.14367394, -0.15471319],\n",
       "       [ 1.        ,  0.89170166, -0.74231537, -0.92827912],\n",
       "       [ 1.        , -0.70062273,  0.45496749,  0.87670806],\n",
       "       [ 1.        , -1.49678492,  1.65225034,  1.39241868],\n",
       "       [ 1.        ,  1.21016654, -1.22122851, -1.18613443]])"
      ]
     },
     "execution_count": 10,
     "metadata": {},
     "output_type": "execute_result"
    }
   ],
   "source": [
    "X"
   ]
  },
  {
   "cell_type": "code",
   "execution_count": 11,
   "id": "5ba7e51e",
   "metadata": {},
   "outputs": [],
   "source": [
    "m, n = X.shape\n",
    "theta = np.zeros(n)\n",
    "alpha = 0.01\n",
    "epochs = 1000"
   ]
  },
  {
   "cell_type": "code",
   "execution_count": 12,
   "id": "6e2028a7",
   "metadata": {},
   "outputs": [],
   "source": [
    "def compute_cost(X, y, theta):\n",
    "    m = len(y)\n",
    "    predictions = X @ theta\n",
    "    cost = (1 / (2 * m)) * np.sum((predictions - y) ** 2)\n",
    "    return cost\n"
   ]
  },
  {
   "cell_type": "code",
   "execution_count": 13,
   "id": "365c55b3",
   "metadata": {},
   "outputs": [
    {
     "name": "stdout",
     "output_type": "stream",
     "text": [
      "Epoch 0, Cost: 346.9919\n",
      "Epoch 100, Cost: 45.9496\n",
      "Epoch 200, Cost: 7.4766\n",
      "Epoch 300, Cost: 2.3252\n",
      "Epoch 400, Cost: 1.6338\n",
      "Epoch 500, Cost: 1.5400\n",
      "Epoch 600, Cost: 1.5262\n",
      "Epoch 700, Cost: 1.5233\n",
      "Epoch 800, Cost: 1.5218\n",
      "Epoch 900, Cost: 1.5205\n"
     ]
    }
   ],
   "source": [
    "cost_history = []\n",
    "\n",
    "for epoch in range(epochs):\n",
    "    predictions = X @ theta\n",
    "    error = predictions - y\n",
    "    \n",
    "    gradients = (1 / m) * (X.T @ error)\n",
    "    theta -= alpha * gradients\n",
    "    \n",
    "    cost = compute_cost(X, y, theta)\n",
    "    cost_history.append(cost)\n",
    "\n",
    "    if epoch % 100 == 0:\n",
    "        print(f\"Epoch {epoch}, Cost: {cost:.4f}\")\n"
   ]
  },
  {
   "cell_type": "code",
   "execution_count": 14,
   "id": "846eaa0e",
   "metadata": {},
   "outputs": [
    {
     "data": {
      "image/png": "[encoded data removed]",
      "text/plain": [
       "<Figure size 640x480 with 1 Axes>"
      ]
     },
     "metadata": {},
     "output_type": "display_data"
    }
   ],
   "source": [
    "plt.plot(cost_history)\n",
    "plt.xlabel(\"Epochs\")\n",
    "plt.ylabel(\"Cost (MSE)\")\n",
    "plt.title(\"Cost Reduction Over Time\")\n",
    "plt.grid(True)\n",
    "plt.show()\n"
   ]
  },
  {
   "cell_type": "code",
   "execution_count": 15,
   "id": "b146c150",
   "metadata": {},
   "outputs": [
    {
     "name": "stdout",
     "output_type": "stream",
     "text": [
      "Predicted MEDV: $24228.88\n"
     ]
    }
   ],
   "source": [
    "# Predict new house: RM=6.1, LSTAT=13, AGE=70\n",
    "new_data = np.array([[6.1, 13.0, 70]])\n",
    "new_data = (new_data - X_mean) / X_std\n",
    "new_data = np.c_[np.ones(new_data.shape[0]), new_data]\n",
    "\n",
    "predicted_price = new_data @ theta\n",
    "print(f\"Predicted MEDV: ${predicted_price[0] * 1000:.2f}\")\n"
   ]
  }
 ],
 "metadata": {
  "kernelspec": {
   "display_name": "Python 3",
   "language": "python",
   "name": "python3"
  },
  "language_info": {
   "codemirror_mode": {
    "name": "ipython",
    "version": 3
   },
   "file_extension": ".py",
   "mimetype": "text/x-python",
   "name": "python",
   "nbconvert_exporter": "python",
   "pygments_lexer": "ipython3",
   "version": "3.13.2"
  }
 },
 "nbformat": 4,
 "nbformat_minor": 5
}
